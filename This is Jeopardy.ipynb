{
  "metadata": {
    "kernelspec": {
      "name": "python",
      "display_name": "Python (Pyodide)",
      "language": "python"
    },
    "language_info": {
      "codemirror_mode": {
        "name": "python",
        "version": 3
      },
      "file_extension": ".py",
      "mimetype": "text/x-python",
      "name": "python",
      "nbconvert_exporter": "python",
      "pygments_lexer": "ipython3",
      "version": "3.8"
    }
  },
  "nbformat_minor": 4,
  "nbformat": 4,
  "cells": [
    {
      "cell_type": "markdown",
      "source": "# This is Jeopardy!",
      "metadata": {}
    },
    {
      "cell_type": "markdown",
      "source": "#### Overview",
      "metadata": {}
    },
    {
      "cell_type": "markdown",
      "source": "This project is slightly different than others you have encountered thus far. Instead of a step-by-step tutorial, this project contains a series of open-ended requirements which describe the project you'll be building. There are many possible ways to correctly fulfill all of these requirements, and you should expect to use the internet, Codecademy, and/or other resources when you encounter a problem that you cannot easily solve.",
      "metadata": {}
    },
    {
      "cell_type": "markdown",
      "source": "#### Project Goals",
      "metadata": {}
    },
    {
      "cell_type": "markdown",
      "source": "You will work to write several functions that investigate a dataset of _Jeopardy!_ questions and answers. Filter the dataset for topics that you're interested in, compute the average difficulty of those questions, and train to become the next Jeopardy champion!",
      "metadata": {}
    },
    {
      "cell_type": "markdown",
      "source": "## Prerequisites",
      "metadata": {}
    },
    {
      "cell_type": "markdown",
      "source": "In order to complete this project, you should have completed the Pandas lessons in the <a href=\"https://www.codecademy.com/learn/paths/analyze-data-with-python\">Analyze Data with Python Skill Path</a>. You can also find those lessons in the <a href=\"https://www.codecademy.com/learn/data-processing-pandas\">Data Analysis with Pandas course</a> or the <a href=\"https://www.codecademy.com/learn/paths/data-science/\">Data Scientist Career Path</a>.\n\nFinally, the <a href=\"https://www.codecademy.com/learn/practical-data-cleaning\">Practical Data Cleaning</a> course may also be helpful.",
      "metadata": {}
    },
    {
      "cell_type": "markdown",
      "source": "## Project Requirements",
      "metadata": {}
    },
    {
      "cell_type": "markdown",
      "source": "1. We've provided a csv file containing data about the game show _Jeopardy!_ in a file named `jeopardy.csv`. Load the data into a DataFrame and investigate its contents. Try to print out specific columns.\n\n   Note that in order to make this project as \"real-world\" as possible, we haven't modified the data at all - we're giving it to you exactly how we found it. As a result, this data isn't as \"clean\" as the datasets you normally find on Codecademy. More specifically, there's something odd about the column names. After you figure out the problem with the column names, you may want to rename them to make your life easier for the rest of the project.\n   \n   In order to display the full contents of a column, we've added this line of code for you:\n   \n   ```py\n   pd.set_option('display.max_colwidth', None)\n   ```",
      "metadata": {}
    },
    {
      "cell_type": "code",
      "source": "import pandas as pd\npd.set_option('display.max_colwidth', None)\ndf = pd.read_csv(\"jeopardy.csv\")\ndf = df.reset_index()\ndf.columns = [\"episode\", \"date\", \"double_jeopardy\", \"category\", \"reward\", \"question\", \"answer\"]\ndf",
      "metadata": {
        "trusted": true
      },
      "execution_count": 1,
      "outputs": [
        {
          "execution_count": 1,
          "output_type": "execute_result",
          "data": {
            "text/plain": "      episode        date   double_jeopardy                     category  \\\n0        5135  2006-12-29  Double Jeopardy!               MAO INHIBITORS   \n1        5135  2006-12-29  Double Jeopardy!                     GRAB BAG   \n2        5135  2006-12-29  Double Jeopardy!  UNITING THE STATES & CITIES   \n3        5135  2006-12-29  Double Jeopardy!         YOU CAN CALL ME \"AL\"   \n4        5135  2006-12-29  Double Jeopardy!              THE MIDDLE AGES   \n...       ...         ...               ...                          ...   \n1561     4999  2006-05-11  Double Jeopardy!               RIDDLE ME THIS   \n1562     4999  2006-05-11  Double Jeopardy!                    \"T\" BIRDS   \n1563     4999  2006-05-11  Double Jeopardy!       AUTHORS IN THEIR YOUTH   \n1564     4999  2006-05-11  Double Jeopardy!                   QUOTATIONS   \n1565     4999  2006-05-11   Final Jeopardy!               HISTORIC NAMES   \n\n      reward  \\\n0      $1200   \n1      $1200   \n2     $4,000   \n3      $1200   \n4      $1600   \n...      ...   \n1561   $2000   \n1562   $2000   \n1563   $2000   \n1564   $2000   \n1565    None   \n\n                                                                                                                    question  \\\n0                        Shortly after Mao's death in 1976, the National Party Congress declared this \"Revolution\" had ended   \n1                                  A second is defined as the period of 9,192,631,770 oscillations of this element, symbl Cs   \n2                                           The \"Land Of Enchantment\" state hooks up with South Carolina's capital; enjoy...   \n3                                             A Vegas casino bears the name of this character from the Tales of Scheherazade   \n4         After the Moors were defeated at Tolosa in 1212, their rule was restricted to this small kingdom in southern Spain   \n...                                                                                                                      ...   \n1561                                              This Puccini opera turns on the solution to 3 riddles posed by the heroine   \n1562                 In North America this term is properly applied to only 4 species that are crested, including the tufted   \n1563               In Penny Lane, where this \"Hellraiser\" grew up, the barber shaves another customer--then flays him alive!   \n1564  From Ft. Sill, Okla. he made the plea, Arizona is my land, my home, my father's land, to which I now ask to... return\"   \n1565                 A silent movie title includes the last name of this 18th c. statesman & favorite of Catherine the Great   \n\n                              answer  \n0            the Cultural Revolution  \n1                             cesium  \n2                   New Mexicolumbia  \n3                            Aladdin  \n4                            Grenada  \n...                              ...  \n1561                        Turandot  \n1562                      a titmouse  \n1563                    Clive Barker  \n1564                        Geronimo  \n1565  Grigori Alexandrovich Potemkin  \n\n[1566 rows x 7 columns]",
            "text/html": "<div>\n<style scoped>\n    .dataframe tbody tr th:only-of-type {\n        vertical-align: middle;\n    }\n\n    .dataframe tbody tr th {\n        vertical-align: top;\n    }\n\n    .dataframe thead th {\n        text-align: right;\n    }\n</style>\n<table border=\"1\" class=\"dataframe\">\n  <thead>\n    <tr style=\"text-align: right;\">\n      <th></th>\n      <th>episode</th>\n      <th>date</th>\n      <th>double_jeopardy</th>\n      <th>category</th>\n      <th>reward</th>\n      <th>question</th>\n      <th>answer</th>\n    </tr>\n  </thead>\n  <tbody>\n    <tr>\n      <th>0</th>\n      <td>5135</td>\n      <td>2006-12-29</td>\n      <td>Double Jeopardy!</td>\n      <td>MAO INHIBITORS</td>\n      <td>$1200</td>\n      <td>Shortly after Mao's death in 1976, the National Party Congress declared this \"Revolution\" had ended</td>\n      <td>the Cultural Revolution</td>\n    </tr>\n    <tr>\n      <th>1</th>\n      <td>5135</td>\n      <td>2006-12-29</td>\n      <td>Double Jeopardy!</td>\n      <td>GRAB BAG</td>\n      <td>$1200</td>\n      <td>A second is defined as the period of 9,192,631,770 oscillations of this element, symbl Cs</td>\n      <td>cesium</td>\n    </tr>\n    <tr>\n      <th>2</th>\n      <td>5135</td>\n      <td>2006-12-29</td>\n      <td>Double Jeopardy!</td>\n      <td>UNITING THE STATES &amp; CITIES</td>\n      <td>$4,000</td>\n      <td>The \"Land Of Enchantment\" state hooks up with South Carolina's capital; enjoy...</td>\n      <td>New Mexicolumbia</td>\n    </tr>\n    <tr>\n      <th>3</th>\n      <td>5135</td>\n      <td>2006-12-29</td>\n      <td>Double Jeopardy!</td>\n      <td>YOU CAN CALL ME \"AL\"</td>\n      <td>$1200</td>\n      <td>A Vegas casino bears the name of this character from the Tales of Scheherazade</td>\n      <td>Aladdin</td>\n    </tr>\n    <tr>\n      <th>4</th>\n      <td>5135</td>\n      <td>2006-12-29</td>\n      <td>Double Jeopardy!</td>\n      <td>THE MIDDLE AGES</td>\n      <td>$1600</td>\n      <td>After the Moors were defeated at Tolosa in 1212, their rule was restricted to this small kingdom in southern Spain</td>\n      <td>Grenada</td>\n    </tr>\n    <tr>\n      <th>...</th>\n      <td>...</td>\n      <td>...</td>\n      <td>...</td>\n      <td>...</td>\n      <td>...</td>\n      <td>...</td>\n      <td>...</td>\n    </tr>\n    <tr>\n      <th>1561</th>\n      <td>4999</td>\n      <td>2006-05-11</td>\n      <td>Double Jeopardy!</td>\n      <td>RIDDLE ME THIS</td>\n      <td>$2000</td>\n      <td>This Puccini opera turns on the solution to 3 riddles posed by the heroine</td>\n      <td>Turandot</td>\n    </tr>\n    <tr>\n      <th>1562</th>\n      <td>4999</td>\n      <td>2006-05-11</td>\n      <td>Double Jeopardy!</td>\n      <td>\"T\" BIRDS</td>\n      <td>$2000</td>\n      <td>In North America this term is properly applied to only 4 species that are crested, including the tufted</td>\n      <td>a titmouse</td>\n    </tr>\n    <tr>\n      <th>1563</th>\n      <td>4999</td>\n      <td>2006-05-11</td>\n      <td>Double Jeopardy!</td>\n      <td>AUTHORS IN THEIR YOUTH</td>\n      <td>$2000</td>\n      <td>In Penny Lane, where this \"Hellraiser\" grew up, the barber shaves another customer--then flays him alive!</td>\n      <td>Clive Barker</td>\n    </tr>\n    <tr>\n      <th>1564</th>\n      <td>4999</td>\n      <td>2006-05-11</td>\n      <td>Double Jeopardy!</td>\n      <td>QUOTATIONS</td>\n      <td>$2000</td>\n      <td>From Ft. Sill, Okla. he made the plea, Arizona is my land, my home, my father's land, to which I now ask to... return\"</td>\n      <td>Geronimo</td>\n    </tr>\n    <tr>\n      <th>1565</th>\n      <td>4999</td>\n      <td>2006-05-11</td>\n      <td>Final Jeopardy!</td>\n      <td>HISTORIC NAMES</td>\n      <td>None</td>\n      <td>A silent movie title includes the last name of this 18th c. statesman &amp; favorite of Catherine the Great</td>\n      <td>Grigori Alexandrovich Potemkin</td>\n    </tr>\n  </tbody>\n</table>\n<p>1566 rows × 7 columns</p>\n</div>"
          },
          "metadata": {}
        }
      ]
    },
    {
      "cell_type": "markdown",
      "source": "2. Write a function that filters the dataset for questions that contains all of the words in a list of words. For example, when the list `[\"King\", \"England\"]` was passed to our function, the function returned a DataFrame of 49 rows. Every row had the strings `\"King\"` and `\"England\"` somewhere in its `\" Question\"`.\n\n   Test your function by printing out the column containing the question of each row of the dataset.",
      "metadata": {}
    },
    {
      "cell_type": "code",
      "source": "def word_in_question(df):\n    return df[df.question.str.contains(\"alaska\")]\n    \n\nprint(word_in_question(df))",
      "metadata": {
        "trusted": true
      },
      "execution_count": 2,
      "outputs": [
        {
          "name": "stdout",
          "text": "Empty DataFrame\nColumns: [episode, date, double_jeopardy, category, reward, question, answer]\nIndex: []\n",
          "output_type": "stream"
        }
      ]
    },
    {
      "cell_type": "markdown",
      "source": "3. Test your original function with a few different sets of words to try to find some ways your function breaks. Edit your function so it is more robust.\n\n   For example, think about capitalization. We probably want to find questions that contain the word `\"King\"` or `\"king\"`.\n   \n   You may also want to check to make sure you don't find rows that contain substrings of your given words. For example, our function found a question that didn't contain the word `\"king\"`, however it did contain the word `\"viking\"` &mdash; it found the `\"king\"` inside `\"viking\"`. Note that this also comes with some drawbacks &mdash; you would no longer find questions that contained words like `\"England's\"`.",
      "metadata": {}
    },
    {
      "cell_type": "code",
      "source": "def word_in_question(df, word):\n    df['question'] = df.question.str.lower()\n    # df['answer'] = df.answer.str.lower()\n    # words = words.str.lower()\n    return (df[df.question.str.contains(word)])\n\nprint(word_in_question(df, \"science\"))\n",
      "metadata": {
        "trusted": true
      },
      "execution_count": 3,
      "outputs": [
        {
          "name": "stdout",
          "text": "      episode        date   double_jeopardy                     category  \\\n107      1317  1990-05-01  Double Jeopardy!            LITERARY CLASSICS   \n357      4394  2003-10-16  Double Jeopardy!                  BOOK TITLES   \n649      1881  1992-11-09  Double Jeopardy!            HAIL TO THE CHIEF   \n669      4364  2003-07-17         Jeopardy!                     -OLOGIES   \n1078     3644  2000-06-08  Double Jeopardy!  VIRGINIA MILITARY INSTITUTE   \n\n      reward  \\\n107   $2,600   \n357   $7,000   \n649     $600   \n669     $400   \n1078   $1000   \n\n                                                                                                             question  \\\n107              the indian sage vatsyayana wrote this erotic how-to manual whose name is sanskrit for \"love science\"   \n357                       david brock's book about \"the conscience of an ex-conservative\" is called \"blinded by\" this   \n649                                              in 1791 he wrote that \"science is my passion, and politics, my duty\"   \n669   william james wished that \"by treating\" this discipline \"like a natural science\" it would help it to become one   \n1078              once a vmi science & artillery professor, this famous confederate general is buried near the campus   \n\n                 answer  \n107          Kama Sutra  \n357           the Right  \n649    Thomas Jefferson  \n669          psychology  \n1078  Stonewall Jackson  \n",
          "output_type": "stream"
        }
      ]
    },
    {
      "cell_type": "markdown",
      "source": "4. We may want to eventually compute aggregate statistics, like `.mean()` on the `\" Value\"` column. But right now, the values in that column are strings. Convert the`\" Value\"` column to floats. If you'd like to, you can create a new column with float values.\n\n   Now that you can filter the dataset of question, use your new column that contains the float values of each question to find the \"difficulty\" of certain topics. For example, what is the average value of questions that contain the word `\"King\"`?\n   \n   Make sure to use the dataset that contains the float values as the dataset you use in your filtering function.",
      "metadata": {}
    },
    {
      "cell_type": "code",
      "source": "df['reward_float'] = df.reward.apply(lambda row: float(row.strip('$ , ').replace(\",\", \"\").replace(\"None\", \"0\")))\ndef value_of_word(word):\n    question_word = word_in_question(df, word)\n    print(str.format(\"There are {} questions with the word \\\"{}\\\" that have a mean reward of ${} \\n\", question_word.reward_float.count(), word, question_word.reward_float.mean()))\n    return question_word\n    \nscience_reward = value_of_word(\"science\")\nprint(science_reward)",
      "metadata": {
        "trusted": true
      },
      "execution_count": 13,
      "outputs": [
        {
          "name": "stdout",
          "text": "There are 5 questions with the word \"science\" that have a mean reward of $2320.0 \n\n      episode        date   double_jeopardy                     category  \\\n107      1317  1990-05-01  Double Jeopardy!            LITERARY CLASSICS   \n357      4394  2003-10-16  Double Jeopardy!                  BOOK TITLES   \n649      1881  1992-11-09  Double Jeopardy!            HAIL TO THE CHIEF   \n669      4364  2003-07-17         Jeopardy!                     -OLOGIES   \n1078     3644  2000-06-08  Double Jeopardy!  VIRGINIA MILITARY INSTITUTE   \n\n      reward  \\\n107   $2,600   \n357   $7,000   \n649     $600   \n669     $400   \n1078   $1000   \n\n                                                                                                             question  \\\n107              the indian sage vatsyayana wrote this erotic how-to manual whose name is sanskrit for \"love science\"   \n357                       david brock's book about \"the conscience of an ex-conservative\" is called \"blinded by\" this   \n649                                              in 1791 he wrote that \"science is my passion, and politics, my duty\"   \n669   william james wished that \"by treating\" this discipline \"like a natural science\" it would help it to become one   \n1078              once a vmi science & artillery professor, this famous confederate general is buried near the campus   \n\n                 answer  reward_float  \n107          Kama Sutra        2600.0  \n357           the Right        7000.0  \n649    Thomas Jefferson         600.0  \n669          psychology         400.0  \n1078  Stonewall Jackson        1000.0  \n",
          "output_type": "stream"
        }
      ]
    },
    {
      "cell_type": "markdown",
      "source": "5. Write a function that returns the count of unique answers to all of the questions in a dataset. For example, after filtering the entire dataset to only questions containing the word `\"King\"`, we could then find all of the unique answers to those questions. The answer \"Henry VIII\" appeared 55 times and was the most common answer.",
      "metadata": {}
    },
    {
      "cell_type": "code",
      "source": "def answer_count(word):\n    return word.answer.value_counts()\n\nanswer_count(science_reward)",
      "metadata": {
        "trusted": true
      },
      "execution_count": 14,
      "outputs": [
        {
          "execution_count": 14,
          "output_type": "execute_result",
          "data": {
            "text/plain": "Kama Sutra           1\nthe Right            1\nThomas Jefferson     1\npsychology           1\nStonewall Jackson    1\nName: answer, dtype: int64"
          },
          "metadata": {}
        }
      ]
    },
    {
      "cell_type": "markdown",
      "source": "6. Explore from here! This is an incredibly rich dataset, and there are so many interesting things to discover. There are a few columns that we haven't even started looking at yet. Here are some ideas on ways to continue working with this data:\n\n * Investigate the ways in which questions change over time by filtering by the date. How many questions from the 90s use the word `\"Computer\"` compared to questions from the 2000s?\n * Is there a connection between the round and the category? Are you more likely to find certain categories, like `\"Literature\"` in Single Jeopardy or Double Jeopardy?\n * Build a system to quiz yourself. Grab random questions, and use the <a href=\"https://docs.python.org/3/library/functions.html#input\">input</a> function to get a response from the user. Check to see if that response was right or wrong.",
      "metadata": {}
    },
    {
      "cell_type": "code",
      "source": "",
      "metadata": {},
      "execution_count": null,
      "outputs": []
    },
    {
      "cell_type": "markdown",
      "source": "## Solution",
      "metadata": {}
    },
    {
      "cell_type": "markdown",
      "source": "7. Compare your program to our <a href=\"https://content.codecademy.com/PRO/independent-practice-projects/jeopardy/jeopardy_solution.zip\">sample solution code</a> - remember, that your program might look different from ours (and probably will) and that's okay!",
      "metadata": {}
    },
    {
      "cell_type": "markdown",
      "source": "8. Great work! Visit <a href=\"https://discuss.codecademy.com/t/this-is-jeopardy-challenge-project-python-pandas/462365\">our forums</a> to compare your project to our sample solution code. You can also learn how to host your own solution on GitHub so you can share it with other learners! Your solution might look different from ours, and that's okay! There are multiple ways to solve these projects, and you'll learn more by seeing others' code.",
      "metadata": {}
    },
    {
      "cell_type": "code",
      "source": "",
      "metadata": {},
      "execution_count": null,
      "outputs": []
    }
  ]
}